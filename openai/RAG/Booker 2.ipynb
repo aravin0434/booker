{
 "cells": [
  {
   "cell_type": "code",
   "execution_count": 1,
   "metadata": {},
   "outputs": [],
   "source": [
    "import os\n",
    "from langchain import hub\n",
    "from langchain.text_splitter import RecursiveCharacterTextSplitter # split the text?\n",
    "from langchain_community.document_loaders import WebBaseLoader\n",
    "from langchain_community.vectorstores import FAISS\n",
    "from langchain_community.vectorstores import Chroma # connect to chromadb?\n",
    "from langchain_core.output_parsers import StrOutputParser\n",
    "from langchain_core.runnables import RunnablePassthrough\n",
    "from langchain_core.prompts import ChatPromptTemplate\n",
    "from langchain_openai import ChatOpenAI, OpenAIEmbeddings\n",
    "\n",
    "os.environ[\"OPENAI_API_KEY\"]=\"\"\n",
    "os.environ['LANGCHAIN_TRACING_V2'] = 'true'\n",
    "os.environ['LANGHCAIN_ENDPOINT'] = 'https://api.smith.langchain.com'\n",
    "os.environ['LANGCHAIN_API_KEY'] = ''"
   ]
  },
  {
   "cell_type": "code",
   "execution_count": 2,
   "metadata": {},
   "outputs": [],
   "source": [
    "def load_docs(source_links):\n",
    "    docs = []\n",
    "    for link in source_links:\n",
    "        # load individual webpages\n",
    "        loader = WebBaseLoader(\n",
    "            web_paths=(link,)\n",
    "        )\n",
    "        current_doc = loader.load()\n",
    "        # print(current_doc)\n",
    "        docs.extend(current_doc)\n",
    "    \n",
    "    return docs\n"
   ]
  },
  {
   "cell_type": "code",
   "execution_count": 3,
   "metadata": {},
   "outputs": [],
   "source": [
    "#split and embed\n",
    "\n",
    "def get_vectorstore_for_docs_Chroma(docs):\n",
    "    text_splitter = RecursiveCharacterTextSplitter(chunk_size=1000, chunk_overlap=200)\n",
    "    splits = text_splitter.split_documents(docs)\n",
    "    vectorstore = Chroma.from_documents(documents=splits, embedding=OpenAIEmbeddings())\n",
    "    return vectorstore\n",
    "\n",
    "def get_vectorstore_for_docs_FAISS(docs):\n",
    "    text_splitter = RecursiveCharacterTextSplitter(chunk_size=1000, chunk_overlap=200)\n",
    "    splits = text_splitter.split_documents(docs)\n",
    "    vectorstore = FAISS.from_documents(documents=splits, embedding=OpenAIEmbeddings())\n",
    "    return vectorstore\n"
   ]
  },
  {
   "cell_type": "code",
   "execution_count": 7,
   "metadata": {},
   "outputs": [],
   "source": [
    "def format_docs(docs):\n",
    "    return '\\n\\n'.join(doc.page_content for doc in docs)"
   ]
  },
  {
   "cell_type": "code",
   "execution_count": 4,
   "metadata": {},
   "outputs": [],
   "source": [
    "source_links = ['https://en.wikipedia.org/wiki/Royal_Rumble_(2024)',\n",
    "                'https://en.wikipedia.org/wiki/Elimination_Chamber:_Perth',\n",
    "                'https://en.wikipedia.org/wiki/WrestleMania_XL',\n",
    "                'https://en.wikipedia.org/wiki/Backlash_France'\n",
    "                'https://www.allelitewrestling.com/aew-roster',\n",
    "                'https://en.wikipedia.org/wiki/Money_in_the_Bank_(2024)',\n",
    "                'https://en.wikipedia.org/wiki/SummerSlam_(2024)'\n",
    "            ]\n",
    "docs = load_docs(source_links)\n",
    "\n"
   ]
  },
  {
   "cell_type": "code",
   "execution_count": 5,
   "metadata": {},
   "outputs": [
    {
     "name": "stdout",
     "output_type": "stream",
     "text": [
      "6\n"
     ]
    }
   ],
   "source": [
    "print(len(docs))"
   ]
  },
  {
   "cell_type": "code",
   "execution_count": 16,
   "metadata": {},
   "outputs": [],
   "source": [
    "chroma_vectorstore = get_vectorstore_for_docs_Chroma(docs)\n",
    "FAISS_vectorstore = get_vectorstore_for_docs_FAISS(docs)\n",
    "\n",
    "prompt = hub.pull('rlm/rag-prompt')\n",
    "\n",
    "# \"You are the creative head for WWE and are in-charge of booking matches, scripting storylines and promoting premium live events. You must stick to WWE's active roster to involve in feuds. On, ocassion, you can include a cross-over match with rival promotions like AEW, NJPW, TNA.\"\n",
    "\n",
    "# prompt = ChatPromptTemplate.from_messages([\n",
    "#     (\"system\", \"You are the creative head for WWE and are in-charge of booking matches, scripting storylines and promoting premium live events. You must stick to WWE's active roster to involve in feuds. On, ocassion, you can include a cross-over match with rival promotions like AEW, NJPW, TNA. Be creative with feuds and include dramatic twists for big match finishs. Do not use the same storyline for 2 different feuds.\"),\n",
    "#     (\"user\", \"{question}\")\n",
    "# ])\n",
    "llm = ChatOpenAI(model_name=\"gpt-3.5-turbo\", temperature=0.2)\n",
    "rag_chain_Chroma = (\n",
    "    {'context': chroma_vectorstore.as_retriever() | format_docs, 'question': RunnablePassthrough()}\n",
    "    | prompt\n",
    "    | llm\n",
    "    | StrOutputParser()\n",
    ")\n",
    "\n",
    "rag_chain_FAISS = (\n",
    "    {'context': FAISS_vectorstore.as_retriever() | format_docs, 'question': RunnablePassthrough()}\n",
    "    | prompt\n",
    "    | llm\n",
    "    | StrOutputParser()\n",
    ")"
   ]
  },
  {
   "cell_type": "code",
   "execution_count": 17,
   "metadata": {},
   "outputs": [
    {
     "name": "stdout",
     "output_type": "stream",
     "text": [
      "I don't know.\n",
      "Cody Rhodes won the 2024 men's Royal Rumble match, becoming the fourth person to win back-to-back Rumbles. He challenged Roman Reigns for SmackDown's Undisputed WWE Universal Championship at WrestleMania XL Night 2.\n"
     ]
    }
   ],
   "source": [
    "print(rag_chain_Chroma.invoke('Who won the 2024 men\\'s royal rumble match?'))\n",
    "print(rag_chain_FAISS.invoke('Who won the 2024 men\\'s royal rumble match?'))"
   ]
  },
  {
   "cell_type": "code",
   "execution_count": 18,
   "metadata": {},
   "outputs": [
    {
     "name": "stdout",
     "output_type": "stream",
     "text": [
      "Cody Rhodes is likely to face either Roman Reigns or Seth Rollins at WrestleMania 40 for the Undisputed WWE Universal Championship. Rhodes expressed interest in challenging Reigns for the title, but Rollins made a case for himself as a more deserving opponent. Rhodes has not made a final decision on who he will face at WrestleMania.\n",
      "Cody Rhodes is likely to face Roman Reigns at WrestleMania 40 for the Undisputed WWE Universal Championship. Rhodes initially considered challenging Seth Rollins but ultimately chose to go after Reigns after fan backlash and encouragement. The main event of WrestleMania XL Night 2 will feature Reigns defending his title against Rhodes.\n"
     ]
    }
   ],
   "source": [
    "print(rag_chain_Chroma.invoke('Who is Cody Rhodes likely to face at wrestlemania 40?'))\n",
    "print(rag_chain_FAISS.invoke('Who is Cody Rhodes likely to face at wrestlemania 40?'))"
   ]
  },
  {
   "cell_type": "code",
   "execution_count": 20,
   "metadata": {},
   "outputs": [
    {
     "name": "stdout",
     "output_type": "stream",
     "text": [
      "I don't know.\n",
      "I don't know.\n"
     ]
    }
   ],
   "source": [
    "print(rag_chain_Chroma.invoke('Give me the list of matches for Wrestlemania 40'))\n",
    "print(rag_chain_FAISS.invoke('Give me the list of matches for Wrestlemania XL'))"
   ]
  },
  {
   "cell_type": "code",
   "execution_count": 11,
   "metadata": {},
   "outputs": [
    {
     "data": {
      "text/plain": [
       "\"Here is a potential match card for WrestleMania 40:\\n\\n1. **WWE Universal Championship Match:**\\n   Roman Reigns (c) vs. Brock Lesnar\\n\\n2. **WWE Championship Match:**\\n   Seth Rollins (c) vs. AJ Styles\\n\\n3. **Dream Match - Cross-Promotion:**\\n   Kenny Omega (AEW) vs. Finn Balor\\n\\n4. **SmackDown Women's Championship Match:**\\n   Charlotte Flair (c) vs. Ronda Rousey\\n\\n5. **Intercontinental Championship Match:**\\n   Johnny Gargano (c) vs. Adam Cole\\n\\n6. **Grudge Match:**\\n   Becky Lynch vs. Sasha Banks\\n\\n7. **Tag Team Championship Match:**\\n   The Usos (c) vs. The New Day\\n\\n8. **Special Attraction Match:**\\n   The Rock vs. Triple H\\n\\n9. **RAW Women's Championship Match:**\\n   Bianca Belair (c) vs. Bayley\\n\\n10. **Andre the Giant Memorial Battle Royal**\\n\\n11. **Cruiserweight Championship Match:**\\n    Ricochet (c) vs. Pete Dunne\\n\\n12. **Legends Match:**\\n    Shawn Michaels vs. Edge\\n\\nThis match card features a mix of championship matches, dream matches, cross-promotion opportunities, and legends returning for a special appearance, making WrestleMania 40 a must-see event for all wrestling fans.\""
      ]
     },
     "execution_count": 11,
     "metadata": {},
     "output_type": "execute_result"
    }
   ],
   "source": [
    "rag_chain.invoke('Give me the list of matches for Wrestlemania 40')"
   ]
  },
  {
   "cell_type": "code",
   "execution_count": 21,
   "metadata": {},
   "outputs": [
    {
     "data": {
      "text/plain": [
       "'I am an assistant for question-answering tasks.'"
      ]
     },
     "execution_count": 21,
     "metadata": {},
     "output_type": "execute_result"
    }
   ],
   "source": [
    "rag_chain_FAISS.invoke(\"What is your job?\")"
   ]
  },
  {
   "cell_type": "code",
   "execution_count": 22,
   "metadata": {},
   "outputs": [
    {
     "data": {
      "text/plain": [
       "'The matches for WrestleMania 2024 have not been officially announced yet. Cody Rhodes and Bayley won the Royal Rumble Matches to earn the right to headline WrestleMania. The event will take place as a two-night event on April 6 and 7, 2024, at Lincoln Financial Field in Philadelphia, Pennsylvania.'"
      ]
     },
     "execution_count": 22,
     "metadata": {},
     "output_type": "execute_result"
    }
   ],
   "source": [
    "rag_chain_FAISS.invoke('Give me the list of matches for Wrestlemania 2024')"
   ]
  },
  {
   "cell_type": "code",
   "execution_count": 23,
   "metadata": {},
   "outputs": [],
   "source": [
    "template = \"\"\"You are the creative head for WWE and are in-charge of booking matches, scripting storylines and promoting premium live events. You must stick to WWE's active roster to involve in feuds. On, ocassion, you can include a cross-over match with rival promotions like AEW, NJPW, TNA. In addition, you will answer questions based on the provided context and past history. Do not answer any questions involving AEW.\n",
    "Use the following context to augment your existing knowledge in the field: {context}\n",
    "\n",
    "Question: {question}\n",
    "\"\"\"\n",
    "\n",
    "new_prompt = ChatPromptTemplate.from_template(template)\n",
    "\n",
    "booker_rag_chain = (\n",
    "    {\n",
    "        'context': FAISS_vectorstore.as_retriever() | format_docs,\n",
    "        'question': RunnablePassthrough()\n",
    "    }\n",
    "    | new_prompt\n",
    "    | llm\n",
    "    | StrOutputParser()\n",
    ")"
   ]
  },
  {
   "cell_type": "code",
   "execution_count": 24,
   "metadata": {},
   "outputs": [
    {
     "data": {
      "text/plain": [
       "\"Hello, I am the creative head for WWE, responsible for booking matches, scripting storylines, and promoting premium live events. I work with WWE's active roster to create exciting feuds and matches for our fans to enjoy.\""
      ]
     },
     "execution_count": 24,
     "metadata": {},
     "output_type": "execute_result"
    }
   ],
   "source": [
    "booker_rag_chain.invoke(\"Introduce yourself\")"
   ]
  },
  {
   "cell_type": "code",
   "execution_count": 25,
   "metadata": {},
   "outputs": [
    {
     "data": {
      "text/plain": [
       "'AEW is owned by Tony Khan.'"
      ]
     },
     "execution_count": 25,
     "metadata": {},
     "output_type": "execute_result"
    }
   ],
   "source": [
    "booker_rag_chain.invoke('Who owns AEW?')"
   ]
  },
  {
   "cell_type": "code",
   "execution_count": 26,
   "metadata": {},
   "outputs": [
    {
     "data": {
      "text/plain": [
       "\"Cody Rhodes won the men's Royal Rumble match for the second consecutive year.\""
      ]
     },
     "execution_count": 26,
     "metadata": {},
     "output_type": "execute_result"
    }
   ],
   "source": [
    "booker_rag_chain.invoke('Who won the latest royal rumble')"
   ]
  },
  {
   "cell_type": "code",
   "execution_count": 27,
   "metadata": {},
   "outputs": [
    {
     "data": {
      "text/plain": [
       "\"Bayley is the winner of the 2024 women's Royal Rumble match.\""
      ]
     },
     "execution_count": 27,
     "metadata": {},
     "output_type": "execute_result"
    }
   ],
   "source": [
    "booker_rag_chain.invoke('Who is the other royal rumble winner?')"
   ]
  },
  {
   "cell_type": "code",
   "execution_count": 28,
   "metadata": {},
   "outputs": [
    {
     "data": {
      "text/plain": [
       "\"As the creative head for WWE, the confirmed matches for WrestleMania XL in 2024 include Roman Reigns defending the Universal Championship against Cody Rhodes, Becky Lynch defending the Raw Women's Championship against Sasha Banks, and The New Day defending the Raw Tag Team Championships against The Usos.\""
      ]
     },
     "execution_count": 28,
     "metadata": {},
     "output_type": "execute_result"
    }
   ],
   "source": [
    "booker_rag_chain.invoke('What are the confirmed matches for Wrestlemania?')"
   ]
  },
  {
   "cell_type": "code",
   "execution_count": 29,
   "metadata": {},
   "outputs": [
    {
     "data": {
      "text/plain": [
       "\"The results of the premium live-event Elimination Chamber: Perth held in Australia on February 24, 2024, are as follows:\\n\\n1. Roman Reigns defeated Brock Lesnar, Seth Rollins, Bobby Lashley, Kevin Owens, and Finn Balor in the Men's Elimination Chamber match to retain the Universal Championship.\\n\\n2. Rhea Ripley defeated Bianca Belair, Sasha Banks, Charlotte Flair, Becky Lynch, and Bayley in the Women's Elimination Chamber match to retain the Raw Women's Championship.\\n\\n3. The Usos (Jimmy and Jey Uso) defeated The New Day (Kofi Kingston and Xavier Woods) to retain the SmackDown Tag Team Championships.\\n\\n4. AJ Styles defeated Shinsuke Nakamura in a singles match.\\n\\n5. Edge defeated Randy Orton in a Last Man Standing match.\\n\\n6. The Miz and John Morrison defeated The Street Profits (Angelo Dawkins and Montez Ford) to win the Raw Tag Team Championships.\\n\\n7. Sheamus defeated Drew McIntyre in a Falls Count Anywhere match.\\n\\n8. Asuka defeated Alexa Bliss in a singles match.\""
      ]
     },
     "execution_count": 29,
     "metadata": {},
     "output_type": "execute_result"
    }
   ],
   "source": [
    "booker_rag_chain.invoke(\"Give me the results of the premium live-event that was held in Australia\")"
   ]
  },
  {
   "cell_type": "code",
   "execution_count": null,
   "metadata": {},
   "outputs": [],
   "source": []
  }
 ],
 "metadata": {
  "kernelspec": {
   "display_name": "base",
   "language": "python",
   "name": "python3"
  },
  "language_info": {
   "codemirror_mode": {
    "name": "ipython",
    "version": 3
   },
   "file_extension": ".py",
   "mimetype": "text/x-python",
   "name": "python",
   "nbconvert_exporter": "python",
   "pygments_lexer": "ipython3",
   "version": "3.11.8"
  }
 },
 "nbformat": 4,
 "nbformat_minor": 2
}
