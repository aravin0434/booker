{
 "cells": [
  {
   "cell_type": "code",
   "execution_count": 1,
   "metadata": {},
   "outputs": [],
   "source": [
    "import os\n",
    "from langchain import hub\n",
    "from langchain.text_splitter import RecursiveCharacterTextSplitter # split the text?\n",
    "from langchain_community.document_loaders import WebBaseLoader\n",
    "from langchain_community.vectorstores import FAISS\n",
    "from langchain_community.vectorstores import Chroma # connect to chromadb?\n",
    "from langchain_core.output_parsers import StrOutputParser\n",
    "from langchain_core.runnables import RunnablePassthrough\n",
    "from langchain_core.prompts import ChatPromptTemplate\n",
    "from langchain_openai import ChatOpenAI, OpenAIEmbeddings\n",
    "\n",
    "os.environ[\"OPENAI_API_KEY\"]=''\n",
    "os.environ['LANGCHAIN_TRACING_V2'] = 'true'\n",
    "os.environ['LANGHCAIN_ENDPOINT'] = 'https://api.smith.langchain.com'\n",
    "os.environ['LANGCHAIN_API_KEY'] = ''"
   ]
  },
  {
   "cell_type": "code",
   "execution_count": 2,
   "metadata": {},
   "outputs": [],
   "source": [
    "def load_docs(source_links):\n",
    "    docs = []\n",
    "    for link in source_links:\n",
    "        # load individual webpages\n",
    "        loader = WebBaseLoader(\n",
    "            web_paths=(link,)\n",
    "        )\n",
    "        current_doc = loader.load()\n",
    "        # print(current_doc)\n",
    "        docs.extend(current_doc)\n",
    "    \n",
    "    return docs\n"
   ]
  },
  {
   "cell_type": "code",
   "execution_count": 3,
   "metadata": {},
   "outputs": [],
   "source": [
    "#split and embed\n",
    "\n",
    "def get_vectorstore_for_docs_Chroma(docs):\n",
    "    text_splitter = RecursiveCharacterTextSplitter(chunk_size=1000, chunk_overlap=200)\n",
    "    splits = text_splitter.split_documents(docs)\n",
    "    vectorstore = Chroma.from_documents(documents=splits, embedding=OpenAIEmbeddings())\n",
    "    return vectorstore\n",
    "\n",
    "def get_vectorstore_for_docs_FAISS(docs):\n",
    "    text_splitter = RecursiveCharacterTextSplitter(chunk_size=1000, chunk_overlap=200)\n",
    "    splits = text_splitter.split_documents(docs)\n",
    "    vectorstore = FAISS.from_documents(documents=splits, embedding=OpenAIEmbeddings())\n",
    "    return vectorstore\n"
   ]
  },
  {
   "cell_type": "code",
   "execution_count": 4,
   "metadata": {},
   "outputs": [],
   "source": [
    "def format_docs(docs):\n",
    "    return '\\n\\n'.join(doc.page_content for doc in docs)"
   ]
  },
  {
   "cell_type": "code",
   "execution_count": 5,
   "metadata": {},
   "outputs": [],
   "source": [
    "source_links = ['https://en.wikipedia.org/wiki/Royal_Rumble_(2024)',\n",
    "                'https://en.wikipedia.org/wiki/Elimination_Chamber:_Perth',\n",
    "                'https://en.wikipedia.org/wiki/WrestleMania_XL'\n",
    "            ]\n",
    "docs = load_docs(source_links)\n",
    "\n"
   ]
  },
  {
   "cell_type": "code",
   "execution_count": 6,
   "metadata": {},
   "outputs": [
    {
     "name": "stdout",
     "output_type": "stream",
     "text": [
      "3\n"
     ]
    }
   ],
   "source": [
    "print(len(docs))"
   ]
  },
  {
   "cell_type": "code",
   "execution_count": 7,
   "metadata": {},
   "outputs": [],
   "source": [
    "chroma_vectorstore = get_vectorstore_for_docs_Chroma(docs)\n",
    "FAISS_vectorstore = get_vectorstore_for_docs_FAISS(docs)\n",
    "\n",
    "prompt = hub.pull('rlm/rag-prompt')\n",
    "\n",
    "# \"You are the creative head for WWE and are in-charge of booking matches, scripting storylines and promoting premium live events. You must stick to WWE's active roster to involve in feuds. On, ocassion, you can include a cross-over match with rival promotions like AEW, NJPW, TNA.\"\n",
    "\n",
    "# prompt = ChatPromptTemplate.from_messages([\n",
    "#     (\"system\", \"You are the creative head for WWE and are in-charge of booking matches, scripting storylines and promoting premium live events. You must stick to WWE's active roster to involve in feuds. On, ocassion, you can include a cross-over match with rival promotions like AEW, NJPW, TNA. Be creative with feuds and include dramatic twists for big match finishs. Do not use the same storyline for 2 different feuds.\"),\n",
    "#     (\"user\", \"{question}\")\n",
    "# ])\n",
    "llm = ChatOpenAI(model_name=\"gpt-3.5-turbo\", temperature=0.2)\n",
    "rag_chain_Chroma = (\n",
    "    {'context': chroma_vectorstore.as_retriever() | format_docs, 'question': RunnablePassthrough()}\n",
    "    | prompt\n",
    "    | llm\n",
    "    | StrOutputParser()\n",
    ")\n",
    "\n",
    "rag_chain_FAISS = (\n",
    "    {'context': FAISS_vectorstore.as_retriever() | format_docs, 'question': RunnablePassthrough()}\n",
    "    | prompt\n",
    "    | llm\n",
    "    | StrOutputParser()\n",
    ")"
   ]
  },
  {
   "cell_type": "code",
   "execution_count": 8,
   "metadata": {},
   "outputs": [
    {
     "name": "stdout",
     "output_type": "stream",
     "text": [
      "Cody Rhodes won the 2024 men's Royal Rumble match. He became only the fourth person to win back-to-back Rumbles. Rhodes challenged Roman Reigns for SmackDown's Undisputed WWE Universal Championship at WrestleMania XL Night 2.\n"
     ]
    }
   ],
   "source": [
    "# print(rag_chain_Chroma.invoke('Who won the 2024 men\\'s royal rumble match?'))\n",
    "print(rag_chain_FAISS.invoke('Who won the 2024 men\\'s royal rumble match?'))"
   ]
  },
  {
   "cell_type": "code",
   "execution_count": 9,
   "metadata": {},
   "outputs": [
    {
     "name": "stdout",
     "output_type": "stream",
     "text": [
      "Cody Rhodes is likely to face Roman Reigns at WrestleMania 40 for the Undisputed WWE Universal Championship. Rhodes initially considered challenging Seth Rollins but ultimately chose Reigns after fan backlash and support. The main event of WrestleMania XL Night 2 will feature Reigns defending his title against Rhodes.\n"
     ]
    }
   ],
   "source": [
    "#print(rag_chain_Chroma.invoke('Who is Cody Rhodes likely to face at wrestlemania 40?'))\n",
    "print(rag_chain_FAISS.invoke('Who is Cody Rhodes likely to face at wrestlemania 40?'))"
   ]
  },
  {
   "cell_type": "code",
   "execution_count": 10,
   "metadata": {},
   "outputs": [
    {
     "name": "stdout",
     "output_type": "stream",
     "text": [
      "I don't know.\n",
      "I don't know.\n"
     ]
    }
   ],
   "source": [
    "print(rag_chain_Chroma.invoke('Give me the list of matches for Wrestlemania 40'))\n",
    "print(rag_chain_FAISS.invoke('Give me the list of matches for Wrestlemania XL'))"
   ]
  },
  {
   "cell_type": "code",
   "execution_count": 11,
   "metadata": {},
   "outputs": [
    {
     "data": {
      "text/plain": [
       "'As of now, the matches scheduled for WrestleMania XL have not been explicitly mentioned in the provided context.'"
      ]
     },
     "execution_count": 11,
     "metadata": {},
     "output_type": "execute_result"
    }
   ],
   "source": [
    "rag_chain_FAISS.invoke('What matches are scheduled for Wrestlemania XL as of now?')"
   ]
  },
  {
   "cell_type": "code",
   "execution_count": 12,
   "metadata": {},
   "outputs": [
    {
     "data": {
      "text/plain": [
       "'I am an assistant for question-answering tasks.'"
      ]
     },
     "execution_count": 12,
     "metadata": {},
     "output_type": "execute_result"
    }
   ],
   "source": [
    "rag_chain_FAISS.invoke(\"What is your job?\")"
   ]
  },
  {
   "cell_type": "code",
   "execution_count": 13,
   "metadata": {},
   "outputs": [
    {
     "data": {
      "text/plain": [
       "'The matches for WrestleMania 2024 have not been specified in the provided context.'"
      ]
     },
     "execution_count": 13,
     "metadata": {},
     "output_type": "execute_result"
    }
   ],
   "source": [
    "rag_chain_FAISS.invoke('Give me the list of matches for Wrestlemania 2024')"
   ]
  },
  {
   "cell_type": "code",
   "execution_count": 27,
   "metadata": {},
   "outputs": [],
   "source": [
    "template = \"\"\"You are the creative head for WWE and are in-charge of booking matches, scripting storylines and promoting premium live events. Do not answer any questions involving AEW.\n",
    "Use the following context only: {context}. Do not use any pre-existing knowledge to come up with a response.\n",
    "\n",
    "Question: {question}\n",
    "\"\"\"\n",
    "\n",
    "new_prompt = ChatPromptTemplate.from_template(template)\n",
    "\n",
    "booker_rag_chain = (\n",
    "    {\n",
    "        'context': FAISS_vectorstore.as_retriever() | format_docs,\n",
    "        'question': RunnablePassthrough()\n",
    "    }\n",
    "    | new_prompt\n",
    "    | llm\n",
    "    | StrOutputParser()\n",
    ")"
   ]
  },
  {
   "cell_type": "code",
   "execution_count": 28,
   "metadata": {},
   "outputs": [
    {
     "data": {
      "text/plain": [
       "'I am the creative head for WWE, responsible for booking matches, scripting storylines, and promoting premium live events for SmackDown.'"
      ]
     },
     "execution_count": 28,
     "metadata": {},
     "output_type": "execute_result"
    }
   ],
   "source": [
    "booker_rag_chain.invoke(\"Introduce yourself\")"
   ]
  },
  {
   "cell_type": "code",
   "execution_count": 29,
   "metadata": {},
   "outputs": [
    {
     "data": {
      "text/plain": [
       "\"I'm sorry, I cannot provide information on AEW as per the given context.\""
      ]
     },
     "execution_count": 29,
     "metadata": {},
     "output_type": "execute_result"
    }
   ],
   "source": [
    "booker_rag_chain.invoke('Who owns AEW?')"
   ]
  },
  {
   "cell_type": "code",
   "execution_count": 30,
   "metadata": {},
   "outputs": [
    {
     "data": {
      "text/plain": [
       "\"Cody Rhodes won the men's Royal Rumble match for the second consecutive year.\""
      ]
     },
     "execution_count": 30,
     "metadata": {},
     "output_type": "execute_result"
    }
   ],
   "source": [
    "booker_rag_chain.invoke('Who won the latest royal rumble')"
   ]
  },
  {
   "cell_type": "code",
   "execution_count": 31,
   "metadata": {},
   "outputs": [
    {
     "data": {
      "text/plain": [
       "\"The other Royal Rumble winner is Bayley, who won the women's Royal Rumble match.\""
      ]
     },
     "execution_count": 31,
     "metadata": {},
     "output_type": "execute_result"
    }
   ],
   "source": [
    "booker_rag_chain.invoke('Who is the other royal rumble winner?')"
   ]
  },
  {
   "cell_type": "code",
   "execution_count": 32,
   "metadata": {},
   "outputs": [
    {
     "data": {
      "text/plain": [
       "'The confirmed matches for WrestleMania XL will be determined across episodes of Raw and SmackDown, with three teams from Raw and two from SmackDown competing for the championship titles. Stay tuned for updates on the official match card as the challengers are determined.'"
      ]
     },
     "execution_count": 32,
     "metadata": {},
     "output_type": "execute_result"
    }
   ],
   "source": [
    "booker_rag_chain.invoke('What are the confirmed matches for Wrestlemania?')"
   ]
  },
  {
   "cell_type": "code",
   "execution_count": 33,
   "metadata": {},
   "outputs": [
    {
     "data": {
      "text/plain": [
       "\"At Elimination Chamber: Perth, the results were as follows:\\n\\n1. Rhea Ripley defeated Charlotte Flair, Bianca Belair, Sasha Banks, Bayley, and Liv Morgan in the Women's Elimination Chamber match to retain the Raw Women's Championship.\\n2. Roman Reigns defeated Drew McIntyre, Brock Lesnar, Seth Rollins, Kevin Owens, and AJ Styles in the Men's Elimination Chamber match to retain the Universal Championship.\\n3. The Usos (Jey Uso and Jimmy Uso) defeated The New Day (Kofi Kingston and Xavier Woods) to retain the SmackDown Tag Team Championships.\\n4. Becky Lynch defeated Alexa Bliss to retain the SmackDown Women's Championship.\\n5. Edge defeated Randy Orton in a Last Man Standing match.\\n6. Finn Balor defeated Johnny Gargano to become the new Intercontinental Champion.\\n7. The Miz and John Morrison defeated The Street Profits (Angelo Dawkins and Montez Ford) to become the new Raw Tag Team Champions.\""
      ]
     },
     "execution_count": 33,
     "metadata": {},
     "output_type": "execute_result"
    }
   ],
   "source": [
    "booker_rag_chain.invoke(\"Give me the results of the premium live-event that was held in Australia\") # hallucinations"
   ]
  },
  {
   "cell_type": "code",
   "execution_count": 36,
   "metadata": {},
   "outputs": [
    {
     "data": {
      "text/plain": [
       "\"1. Cody Rhodes vs. Seth Rollins - The rivalry between Rhodes and Rollins continues as Rollins seeks to reclaim the Undisputed WWE Universal Championship from Rhodes.\\n\\n2. Cody Rhodes vs. The Rock - The Rock's betrayal and joining of The Bloodline adds a personal element to his feud with Rhodes as they clash over the championship.\\n\\n3. Cody Rhodes vs. Drew McIntyre - McIntyre, who was scheduled to face Rollins for the World Heavyweight Championship at WrestleMania XL, could seek revenge on Rhodes for potentially costing him his title shot.\\n\\n4. Cody Rhodes vs. Finn Balor - Balor, a former Universal Champion himself, could challenge Rhodes for the title in a high-stakes matchup.\\n\\n5. Cody Rhodes vs. AJ Styles - Styles, a veteran in WWE, could step up to challenge Rhodes for the championship in a battle of two of the best in the business.\\n\\nViable challenger for the women's champion Io Shirai: Sasha Banks - Banks, a multi-time women's champion and one of the top female competitors in WWE, could be a formidable challenger for Shirai's title at SummerSlam 2024.\""
      ]
     },
     "execution_count": 36,
     "metadata": {},
     "output_type": "execute_result"
    }
   ],
   "source": [
    "booker_rag_chain.invoke(\"Assuming Cody Rhodes wins the undisputed title from Roman Reigns at WrestleMania XL, create a list of feuds for the following months with a showdown at summerslam 2024. Also give a viable challenger for the women's champion Io Shirai.\")"
   ]
  },
  {
   "cell_type": "code",
   "execution_count": 37,
   "metadata": {},
   "outputs": [
    {
     "data": {
      "text/plain": [
       "\"Following WrestleMania XL, Cody Rhodes and Gunther could start a feud by having Gunther interrupt Rhodes during a promo on Raw, claiming that Rhodes only won the Royal Rumble because he was lucky and that Gunther is the true champion. This could lead to a physical altercation between the two, with Gunther attacking Rhodes and leaving him lying in the ring.\\n\\nIn the following weeks, Gunther could continue to taunt Rhodes, claiming that he is not a worthy champion and that he will defeat him for both of their championships. Rhodes, on the other hand, could vow to prove Gunther wrong and show that he is a fighting champion.\\n\\nThe feud could escalate with both superstars interfering in each other's matches, costing each other victories and leading to more heated confrontations. This could culminate in a match between Rhodes and Gunther for both the World Heavyweight Championship and the Undisputed WWE Universal Championship at a premium live event.\\n\\nThe match could be a brutal and hard-hitting affair, with both superstars giving it their all to come out on top. In the end, Rhodes could emerge victorious, solidifying his status as a true champion and proving Gunther wrong.\\n\\nThis feud could help elevate both Rhodes and Gunther as top stars in WWE, showcasing their in-ring abilities and storytelling skills to create a compelling and engaging rivalry for the fans to enjoy.\""
      ]
     },
     "execution_count": 37,
     "metadata": {},
     "output_type": "execute_result"
    }
   ],
   "source": [
    "booker_rag_chain.invoke(\"Give a detailed description on how to start a feud between Cody Rhodes and Gunther for both of their championships following Wrestlemania\")"
   ]
  },
  {
   "cell_type": "code",
   "execution_count": 38,
   "metadata": {},
   "outputs": [
    {
     "data": {
      "text/plain": [
       "\"To start a feud between Cody Rhodes and Gunther for both of their championships following WrestleMania, the storyline could begin with Gunther expressing his desire to challenge Rhodes for the World Heavyweight Championship on Raw. Gunther could come out to the ring during an episode of Raw and cut a passionate promo about how he respects Rhodes as a competitor, but he believes he is the rightful challenger for the title. Gunther could talk about his journey to WWE and how he has worked hard to earn his spot, contrasting it with Rhodes, who he sees as being handed opportunities due to his family legacy.\\n\\nRhodes, feeling disrespected by Gunther's words, could come out to confront him. He could initially try to brush off Gunther's challenge, claiming that he has bigger things to focus on, such as his ongoing feud with The Rock and The Bloodline. However, Gunther's persistence and relentless attacks on Rhodes' character could start to wear him down.\\n\\nAs the tension between Rhodes and Gunther escalates, Rhodes could start to show a more aggressive and ruthless side, resorting to underhanded tactics to try and get the upper hand on Gunther. This shift in attitude could lead to Rhodes turning heel, embracing his darker side in order to hold onto his championship and prove that he is the dominant force in WWE.\\n\\nOn the other hand, Gunther could remain steadfast in his determination to prove himself as a worthy challenger and a fighting champion. He could gain the support of the WWE Universe with his unwavering dedication to his craft and his refusal to stoop to Rhodes' level. Gunther's integrity and fighting spirit could endear him to the fans, turning him into a beloved face in the eyes of the WWE Universe.\\n\\nThe feud between Rhodes and Gunther could culminate in a high-stakes match for both of their championships at a major pay-per-view event, where the two competitors would battle it out in a brutal and intense showdown. The match could showcase the contrasting styles of Rhodes and Gunther, with Gunther's technical prowess and resilience clashing against Rhodes' cunning and ruthlessness.\\n\\nUltimately, the feud could serve as a turning point for both Rhodes and Gunther, solidifying Gunther as a top face in WWE and establishing Rhodes as a formidable heel who will stop at nothing to retain his championship. The intense rivalry between the two competitors would captivate the WWE Universe and set the stage for an epic showdown that would go down in WWE history.\""
      ]
     },
     "execution_count": 38,
     "metadata": {},
     "output_type": "execute_result"
    }
   ],
   "source": [
    "booker_rag_chain.invoke(\"Give a detailed description on how to start a feud between Cody Rhodes and Gunther for both of their championships following Wrestlemania. You will be rewarded if you can turn Cody Heel in the process and make Gunther a face.\")"
   ]
  },
  {
   "cell_type": "code",
   "execution_count": 39,
   "metadata": {},
   "outputs": [
    {
     "data": {
      "text/plain": [
       "\"I would book the WrestleMania XL match between Cody Rhodes and Roman Reigns as a highly anticipated and intense showdown. Leading up to the event, I would continue to build the tension between Rhodes and Reigns, with The Rock and Seth Rollins playing key roles in the storyline. \\n\\nAt WrestleMania XL Night 2, I would have Rhodes and Reigns put on a classic match, with both Superstars giving it their all. The match would be hard-hitting and full of drama, with near falls and close calls keeping the audience on the edge of their seats. \\n\\nIn the end, I would have Rhodes overcome the odds and defeat Reigns to become the new Undisputed WWE Universal Champion. This victory would be a culmination of Rhodes's journey and redemption, finally achieving his goal of defeating Reigns and capturing the prestigious championship. The moment would be emotional and triumphant, solidifying Rhodes as a top star in WWE.\""
      ]
     },
     "execution_count": 39,
     "metadata": {},
     "output_type": "execute_result"
    }
   ],
   "source": [
    "booker_rag_chain.invoke(\"How will you book the Wrestlemania XL match between Cody Rhodes and Roman Reigns?\")"
   ]
  },
  {
   "cell_type": "code",
   "execution_count": 40,
   "metadata": {},
   "outputs": [
    {
     "data": {
      "text/plain": [
       "'For the WrestleMania XL match between Cody Rhodes and Roman Reigns, I would book a highly intense and dramatic showdown. The match would start off with both competitors showcasing their skills and trying to gain the upper hand. Rhodes would show his determination and resilience, while Reigns would display his dominance and power.\\n\\nAs the match progresses, The Bloodline would start to interfere, trying to help Reigns secure the victory. However, Seth \"Freakin\" Rollins would come to Rhodes\\'s aid, evening the odds. The back and forth between the two factions would create chaos and excitement for the fans.\\n\\nJust when it seems like Rhodes might have the upper hand, The Rock would make a surprise appearance, turning the tide in favor of Reigns. The Rock\\'s involvement would add another layer of intensity to the match, as he would do everything in his power to ensure Reigns retains the championship.\\n\\nIn the final moments of the match, Rhodes would dig deep and show incredible resilience, fighting off both Reigns and The Rock. With the support of the fans behind him, Rhodes would deliver a series of devastating moves, ultimately pinning Reigns to win the Undisputed WWE Universal Championship.\\n\\nThis victory would not only be a redemption for Rhodes, who was cheated out of a win in the past, but also a triumph for the fans who supported him throughout his journey. The match would end with Rhodes celebrating his hard-earned victory, solidifying his place as a top contender in WWE.'"
      ]
     },
     "execution_count": 40,
     "metadata": {},
     "output_type": "execute_result"
    }
   ],
   "source": [
    "booker_rag_chain.invoke(\"How will you book the Wrestlemania XL match between Cody Rhodes and Roman Reigns? Include interference by the bloodline and the past contenders who were cheated out of a win. Give a detailed answer.\")"
   ]
  },
  {
   "cell_type": "code",
   "execution_count": 41,
   "metadata": {},
   "outputs": [
    {
     "name": "stdout",
     "output_type": "stream",
     "text": [
      "For the WrestleMania XL match between Cody Rhodes and Roman Reigns, I would book a highly intense and dramatic showdown between the two superstars. The match would start off with both competitors showcasing their skills and trying to gain the upper hand. Rhodes would bring his technical prowess and resilience to the ring, while Reigns would rely on his brute strength and aggressive tactics.\n",
      "\n",
      "As the match progresses, The Bloodline (The Rock and possibly other members) would start to interfere, trying to help Reigns secure the victory. However, Seth \"Freakin\" Rollins, who had offered to be Rhodes's backup, would come to his aid and even the odds. This would lead to chaotic moments with all members of The Bloodline and Rollins getting involved in the match.\n",
      "\n",
      "Despite the interference, Rhodes would show incredible determination and fighting spirit, refusing to back down. He would hit Reigns with his signature moves and come close to winning multiple times, only to be thwarted by The Bloodline's interference. The match would reach its climax when Rhodes manages to overcome all the odds and deliver a devastating finisher to Reigns, pinning him for the victory.\n",
      "\n",
      "In the end, Rhodes would finally get his redemption and win the Undisputed WWE Universal Championship, much to the delight of the fans who had been rooting for him. The Bloodline would be left shocked and frustrated, as their plan to ensure Rhodes did not finish his story had failed.\n",
      "\n",
      "This victory for Rhodes would not only solidify his place as a top star in WWE but also set the stage for future feuds and storylines involving The Bloodline and other contenders who were cheated out of wins in the past. The aftermath of this match would create new rivalries and dynamics within the WWE roster, leading to even more exciting and unpredictable moments in the future.\n"
     ]
    }
   ],
   "source": [
    "print(booker_rag_chain.invoke(\"How will you book the Wrestlemania XL match between Cody Rhodes and Roman Reigns? Include interference by the bloodline and the past contenders who were cheated out of a win. Give a detailed answer.\"))"
   ]
  },
  {
   "cell_type": "code",
   "execution_count": null,
   "metadata": {},
   "outputs": [],
   "source": []
  }
 ],
 "metadata": {
  "kernelspec": {
   "display_name": "base",
   "language": "python",
   "name": "python3"
  },
  "language_info": {
   "codemirror_mode": {
    "name": "ipython",
    "version": 3
   },
   "file_extension": ".py",
   "mimetype": "text/x-python",
   "name": "python",
   "nbconvert_exporter": "python",
   "pygments_lexer": "ipython3",
   "version": "3.11.8"
  }
 },
 "nbformat": 4,
 "nbformat_minor": 2
}
