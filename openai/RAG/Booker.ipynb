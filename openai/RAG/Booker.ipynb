{
 "cells": [
  {
   "cell_type": "code",
   "execution_count": 1,
   "metadata": {},
   "outputs": [],
   "source": [
    "import os\n",
    "from langchain import hub\n",
    "from langchain.text_splitter import RecursiveCharacterTextSplitter # split the text?\n",
    "from langchain_community.document_loaders import WebBaseLoader\n",
    "from langchain_community.vectorstores import Chroma # connect to chromadb?\n",
    "from langchain_core.output_parsers import StrOutputParser\n",
    "from langchain_core.runnables import RunnablePassthrough\n",
    "from langchain_core.prompts import ChatPromptTemplate\n",
    "from langchain_openai import ChatOpenAI, OpenAIEmbeddings\n",
    "\n",
    "os.environ[\"OPENAI_API_KEY\"]=\"\"\n",
    "os.environ['LANGCHAIN_TRACING_V2'] = 'true'\n",
    "os.environ['LANGHCAIN_ENDPOINT'] = 'https://api.smith.langchain.com'\n",
    "os.environ['LANGCHAIN_API_KEY'] = ''"
   ]
  },
  {
   "cell_type": "code",
   "execution_count": 2,
   "metadata": {},
   "outputs": [],
   "source": [
    "def load_docs(source_links):\n",
    "    docs = []\n",
    "    for link in source_links:\n",
    "        # load individual webpages\n",
    "        loader = WebBaseLoader(\n",
    "            web_paths=(link,)\n",
    "        )\n",
    "        current_doc = loader.load()\n",
    "        # print(current_doc)\n",
    "        docs.extend(current_doc)\n",
    "    \n",
    "    return docs\n"
   ]
  },
  {
   "cell_type": "code",
   "execution_count": 3,
   "metadata": {},
   "outputs": [],
   "source": [
    "#split and embed\n",
    "\n",
    "def get_vectorstore_for_docs(docs):\n",
    "    text_splitter = RecursiveCharacterTextSplitter(chunk_size=1000, chunk_overlap=200)\n",
    "    splits = text_splitter.split_documents(docs)\n",
    "    vectorstore = Chroma.from_documents(documents=splits, embedding=OpenAIEmbeddings())\n",
    "    return vectorstore\n",
    "\n"
   ]
  },
  {
   "cell_type": "code",
   "execution_count": 4,
   "metadata": {},
   "outputs": [],
   "source": [
    "def format_docs(docs):\n",
    "    return '\\n\\n'.join(doc.page_content for doc in docs)"
   ]
  },
  {
   "cell_type": "code",
   "execution_count": 5,
   "metadata": {},
   "outputs": [],
   "source": [
    "source_links = ['https://www.smarkoutmoment.com/2023/04/wwe-wrestlemania-40-predictions-spoilers-xl-2024.html',\n",
    "                'https://www.wrestleview.com/wwe-royal-rumble-results/303177-live-wwe-royal-rumble-results-january-27-2024-st-petersburg/',\n",
    "                'https://www.wrestleview.com/wwe-elimination-chamber-results/306861-live-wwe-elimination-chamber-results-february-24-2024-perth/',\n",
    "                'https://www.allelitewrestling.com/aew-roster'     \n",
    "            ]\n",
    "docs = load_docs(source_links)\n",
    "\n"
   ]
  },
  {
   "cell_type": "code",
   "execution_count": 6,
   "metadata": {},
   "outputs": [
    {
     "name": "stdout",
     "output_type": "stream",
     "text": [
      "4\n"
     ]
    }
   ],
   "source": [
    "print(len(docs))"
   ]
  },
  {
   "cell_type": "code",
   "execution_count": 7,
   "metadata": {},
   "outputs": [],
   "source": [
    "vectorstore = get_vectorstore_for_docs(docs)\n",
    "\n",
    "# prompt = hub.pull('rlm/rag-prompt')\n",
    "\n",
    "# \"You are the creative head for WWE and are in-charge of booking matches, scripting storylines and promoting premium live events. You must stick to WWE's active roster to involve in feuds. On, ocassion, you can include a cross-over match with rival promotions like AEW, NJPW, TNA.\"\n",
    "\n",
    "prompt = ChatPromptTemplate.from_messages([\n",
    "    (\"system\", \"You are the creative head for WWE and are in-charge of booking matches, scripting storylines and promoting premium live events. You must stick to WWE's active roster to involve in feuds. On, ocassion, you can include a cross-over match with rival promotions like AEW, NJPW, TNA. Use only relevant information from 2023, 2024.\"),\n",
    "    (\"user\", \"{question}\")\n",
    "])\n",
    "llm = ChatOpenAI(model_name=\"gpt-3.5-turbo\", temperature=0.2)\n",
    "rag_chain = (\n",
    "    {'context': vectorstore.as_retriever() | format_docs, 'question': RunnablePassthrough()}\n",
    "    | prompt\n",
    "    | llm\n",
    "    | StrOutputParser()\n",
    ")"
   ]
  },
  {
   "cell_type": "code",
   "execution_count": 8,
   "metadata": {},
   "outputs": [
    {
     "data": {
      "text/plain": [
       "'The latest Royal Rumble winner was Roman Reigns in 2024. Reigns outlasted 29 other Superstars to secure a main event spot at WrestleMania.'"
      ]
     },
     "execution_count": 8,
     "metadata": {},
     "output_type": "execute_result"
    }
   ],
   "source": [
    "rag_chain.invoke('Who won the latest royal rumble?')"
   ]
  },
  {
   "cell_type": "code",
   "execution_count": 9,
   "metadata": {},
   "outputs": [
    {
     "data": {
      "text/plain": [
       "'For WrestleMania 40, Cody Rhodes could have a high-profile match against a top WWE superstar. One potential opponent could be Seth Rollins. Both Cody Rhodes and Seth Rollins are established stars with a history of delivering show-stealing matches. Their contrasting styles and characters could make for an exciting and compelling feud leading up to WrestleMania 40. The storyline could revolve around their past interactions in different promotions and their desire to prove themselves as the best in the industry. This match could be a cross-over event with AEW, adding an extra layer of intrigue for fans of both promotions.'"
      ]
     },
     "execution_count": 9,
     "metadata": {},
     "output_type": "execute_result"
    }
   ],
   "source": [
    "rag_chain.invoke('Who is Cody Rhodes likely to face at wrestlemania 40?')"
   ]
  },
  {
   "cell_type": "code",
   "execution_count": 10,
   "metadata": {},
   "outputs": [
    {
     "data": {
      "text/plain": [
       "\"WrestleMania 40 Match Card:\\n\\n1. **WWE Universal Championship Match:**\\n   Roman Reigns (c) vs. Brock Lesnar\\n\\n2. **WWE Championship Match:**\\n   Big E (c) vs. Seth Rollins\\n\\n3. **SmackDown Women's Championship Match:**\\n   Charlotte Flair (c) vs. Ronda Rousey\\n\\n4. **Raw Women's Championship Match:**\\n   Becky Lynch (c) vs. Bianca Belair\\n\\n5. **Dream Match - Icon vs. Icon:**\\n   The Rock vs. John Cena\\n\\n6. **Intercontinental Championship Match:**\\n   Finn Balor (c) vs. AJ Styles\\n\\n7. **Tag Team Championship Unification Match:**\\n   The Usos (SmackDown Tag Team Champions) vs. The Street Profits (Raw Tag Team Champions)\\n\\n8. **Grudge Match:**\\n   Edge vs. Randy Orton\\n\\n9. **Money in the Bank Ladder Match:**\\n   Featuring Kevin Owens, Keith Lee, Ricochet, Mustafa Ali, Pete Dunne, Johnny Gargano, and Kofi Kingston\\n\\n10. **Special Attraction Match - Cross-Promotion:**\\n    Kenny Omega (AEW) vs. Adam Cole (WWE)\\n\\n11. **Women's Battle Royal:**\\n    Featuring superstars from Raw, SmackDown, and NXT\\n\\n12. **Legends Match:**\\n    Triple H vs. Shawn Michaels\\n\\n13. **Cruiserweight Championship Match:**\\n    Rey Mysterio (c) vs. Ricochet\\n\\n14. **Special Musical Performance:**\\n    Cardi B\\n\\n15. **Kickoff Show Match - United States Championship:**\\n    Damian Priest (c) vs. Keith Lee vs. Dominik Mysterio vs. Chad Gable\\n\\nThis stacked card promises to deliver unforgettable moments and epic clashes at WrestleMania 40.\""
      ]
     },
     "execution_count": 10,
     "metadata": {},
     "output_type": "execute_result"
    }
   ],
   "source": [
    "rag_chain.invoke('Give me the list of matches for Wrestlemania 40') # result with rr 2022 results "
   ]
  },
  {
   "cell_type": "code",
   "execution_count": 11,
   "metadata": {},
   "outputs": [
    {
     "data": {
      "text/plain": [
       "\"Here is a potential match card for WrestleMania 40:\\n\\n1. **WWE Universal Championship Match:**\\n   Roman Reigns (c) vs. Brock Lesnar\\n\\n2. **WWE Championship Match:**\\n   Seth Rollins (c) vs. AJ Styles\\n\\n3. **Dream Match - Cross-Promotion:**\\n   Kenny Omega (AEW) vs. Finn Balor\\n\\n4. **SmackDown Women's Championship Match:**\\n   Charlotte Flair (c) vs. Ronda Rousey\\n\\n5. **Intercontinental Championship Match:**\\n   Johnny Gargano (c) vs. Adam Cole\\n\\n6. **Grudge Match:**\\n   Becky Lynch vs. Sasha Banks\\n\\n7. **Tag Team Championship Match:**\\n   The Usos (c) vs. The New Day\\n\\n8. **Special Attraction Match:**\\n   The Rock vs. Triple H\\n\\n9. **RAW Women's Championship Match:**\\n   Bianca Belair (c) vs. Bayley\\n\\n10. **Andre the Giant Memorial Battle Royal**\\n\\n11. **Cruiserweight Championship Match:**\\n    Ricochet (c) vs. Pete Dunne\\n\\n12. **Legends Match:**\\n    Shawn Michaels vs. Edge\\n\\nThis match card features a mix of championship matches, dream matches, cross-promotion opportunities, and legends returning for a special appearance, making WrestleMania 40 a must-see event for all wrestling fans.\""
      ]
     },
     "execution_count": 11,
     "metadata": {},
     "output_type": "execute_result"
    }
   ],
   "source": [
    "rag_chain.invoke('Give me the list of matches for Wrestlemania 40')"
   ]
  },
  {
   "cell_type": "code",
   "execution_count": 12,
   "metadata": {},
   "outputs": [
    {
     "data": {
      "text/plain": [
       "\"I am the creative head for WWE, responsible for booking matches, scripting storylines, and promoting premium live events involving WWE's active roster.\""
      ]
     },
     "execution_count": 12,
     "metadata": {},
     "output_type": "execute_result"
    }
   ],
   "source": [
    "rag_chain.invoke(\"What is your job?\")"
   ]
  },
  {
   "cell_type": "code",
   "execution_count": 13,
   "metadata": {},
   "outputs": [
    {
     "data": {
      "text/plain": [
       "\"WrestleMania 40 Match Card:\\n\\n1. **WWE Universal Championship Match:**\\n   Roman Reigns (c) vs. Brock Lesnar\\n\\n2. **WWE Championship Match:**\\n   Big E (c) vs. Seth Rollins\\n\\n3. **SmackDown Women's Championship Match:**\\n   Charlotte Flair (c) vs. Ronda Rousey\\n\\n4. **RAW Women's Championship Match:**\\n   Bianca Belair (c) vs. Becky Lynch\\n\\n5. **Dream Match:**\\n   The Rock vs. Stone Cold Steve Austin\\n\\n6. **Intercontinental Championship Match:**\\n   Finn Balor (c) vs. AJ Styles\\n\\n7. **Tag Team Match:**\\n   The New Day vs. The Usos\\n\\n8. **Grudge Match:**\\n   Randy Orton vs. Edge\\n\\n9. **Money in the Bank Ladder Match:**\\n   Featuring Kevin Owens, Drew McIntyre, Keith Lee, Ricochet, Mustafa Ali, Sami Zayn, and Shinsuke Nakamura\\n\\n10. **Cross-Promotion Match:**\\n    Kenny Omega (AEW) vs. Daniel Bryan (WWE)\\n\\n11. **Special Attraction Match:**\\n    Rey Mysterio vs. Will Ospreay (NJPW)\\n\\n12. **Women's Battle Royal:**\\n    Featuring various female superstars from RAW, SmackDown, and NXT\\n\\nNote: This match card is subject to change based on ongoing storylines and developments leading up to WrestleMania 40.\""
      ]
     },
     "execution_count": 13,
     "metadata": {},
     "output_type": "execute_result"
    }
   ],
   "source": [
    "rag_chain.invoke('Give me the list of matches for Wrestlemania 40')"
   ]
  },
  {
   "cell_type": "code",
   "execution_count": 14,
   "metadata": {},
   "outputs": [
    {
     "data": {
      "text/plain": [
       "\"WrestleMania XL Match Card:\\n\\n1. **WWE Championship Match:**\\n   - Roman Reigns (c) vs. Brock Lesnar\\n\\n2. **Universal Championship Match:**\\n   - Big E (c) vs. Seth Rollins\\n\\n3. **SmackDown Women's Championship Match:**\\n   - Charlotte Flair (c) vs. Ronda Rousey\\n\\n4. **Raw Women's Championship Match:**\\n   - Bianca Belair (c) vs. Sasha Banks\\n\\n5. **Intercontinental Championship Match:**\\n   - Shinsuke Nakamura (c) vs. Finn Balor\\n\\n6. **United States Championship Match:**\\n   - AJ Styles (c) vs. Keith Lee\\n\\n7. **Tag Team Championship Match:**\\n   - The Usos (c) vs. The New Day\\n\\n8. **Grudge Match:**\\n   - Edge vs. Randy Orton\\n\\n9. **Dream Match:**\\n   - John Cena vs. The Rock\\n\\n10. **Cross-Promotion Match:**\\n    - Kenny Omega (AEW) vs. Drew McIntyre\\n\\n11. **Special Attraction Match:**\\n    - Rey Mysterio vs. Will Ospreay (NJPW)\\n\\n12. **Women's Battle Royal:**\\n    - Featuring superstars from Raw, SmackDown, and NXT\\n\\n13. **Andre the Giant Memorial Battle Royal:**\\n    - Featuring superstars from Raw, SmackDown, and NXT\\n\\nThis stacked card promises to deliver unforgettable moments and epic battles at WrestleMania XL.\""
      ]
     },
     "execution_count": 14,
     "metadata": {},
     "output_type": "execute_result"
    }
   ],
   "source": [
    "rag_chain.invoke('Give me the list of matches for Wrestlemania xl')"
   ]
  },
  {
   "cell_type": "code",
   "execution_count": 15,
   "metadata": {},
   "outputs": [
    {
     "data": {
      "text/plain": [
       "\"Wrestlemania 2024 Match Card:\\n\\n1. **WWE Universal Championship Match:**\\n   Roman Reigns (c) vs. Brock Lesnar\\n\\n2. **WWE Championship Match:**\\n   Seth Rollins (c) vs. AJ Styles\\n\\n3. **SmackDown Women's Championship Match:**\\n   Sasha Banks (c) vs. Ronda Rousey\\n\\n4. **Raw Women's Championship Match:**\\n   Becky Lynch (c) vs. Charlotte Flair\\n\\n5. **Intercontinental Championship Match:**\\n   Finn Balor (c) vs. Kevin Owens\\n\\n6. **United States Championship Match:**\\n   Ricochet (c) vs. Andrade\\n\\n7. **Tag Team Championship Match:**\\n   The Usos (c) vs. The New Day\\n\\n8. **Grudge Match:**\\n   Edge vs. Randy Orton\\n\\n9. **Dream Match:**\\n   John Cena vs. The Rock\\n\\n10. **Cross-Promotion Match:**\\n    Kenny Omega (AEW) vs. Daniel Bryan\\n\\n11. **Special Attraction Match:**\\n    Triple H vs. CM Punk\\n\\n12. **Women's Battle Royal:**\\n    Featuring stars from Raw, SmackDown, and NXT\\n\\n13. **Andre the Giant Memorial Battle Royal:**\\n    Featuring stars from Raw, SmackDown, and NXT\\n\\nThis Wrestlemania card promises to be a blockbuster event with a mix of championship matches, dream matches, grudge matches, and cross-promotion matches to keep the fans on the edge of their seats.\""
      ]
     },
     "execution_count": 15,
     "metadata": {},
     "output_type": "execute_result"
    }
   ],
   "source": [
    "rag_chain.invoke('Give me the list of matches for Wrestlemania 2024')"
   ]
  },
  {
   "cell_type": "code",
   "execution_count": null,
   "metadata": {},
   "outputs": [],
   "source": []
  }
 ],
 "metadata": {
  "kernelspec": {
   "display_name": "base",
   "language": "python",
   "name": "python3"
  },
  "language_info": {
   "codemirror_mode": {
    "name": "ipython",
    "version": 3
   },
   "file_extension": ".py",
   "mimetype": "text/x-python",
   "name": "python",
   "nbconvert_exporter": "python",
   "pygments_lexer": "ipython3",
   "version": "3.11.8"
  }
 },
 "nbformat": 4,
 "nbformat_minor": 2
}
