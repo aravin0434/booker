{
 "cells": [
  {
   "cell_type": "code",
   "execution_count": 1,
   "metadata": {},
   "outputs": [],
   "source": [
    "from openai import OpenAI\n",
    "import os\n",
    "os.environ[\"OPENAI_API_KEY\"]=\"\""
   ]
  },
  {
   "cell_type": "code",
   "execution_count": 3,
   "metadata": {},
   "outputs": [
    {
     "name": "stdout",
     "output_type": "stream",
     "text": [
      "[Choice(finish_reason='stop', index=0, logprobs=None, message=ChatCompletionMessage(content=\"In the realm of code where logic reigns,\\nA concept strange yet mighty, recursion's domain.\\nLike a mirror reflecting its own grace,\\nA function calls itself, in an endless embrace.\\n\\nThrough layers deep, it travels far,\\nUnraveling mysteries, like a shooting star.\\nEach repetition, a step in the dance,\\nUnfolding patterns with elegance and chance.\\n\\nInfinite loops, in a symphony of code,\\nA recursive journey, where wonders unfold.\\nBreaking problems down, into parts so small,\\nUntil the solution emerges, like a whispering call.\\n\\nBeware of the depths, where errors may lurk,\\nInfinite recursion, like a shadow at work.\\nBut with care and precision, and a programmer's art,\\nRecursion reveals its beauty, a masterpiece at heart.\\n\\nSo embrace its power, its magic, its might,\\nFor in the world of programming, recursion takes flight.\\nA cycle of creation, a loop of the mind,\\nIn the tapestry of code, recursion you'll find.\", role='assistant', function_call=None, tool_calls=None))]\n"
     ]
    }
   ],
   "source": [
    "client = OpenAI()\n",
    "completion = client.chat.completions.create(\n",
    "    model=\"gpt-3.5-turbo\",\n",
    "    messages=[\n",
    "        {\"role\": \"system\", \"content\": \"You are a poetic assistant, skilled in explaining complex programming concepts with creative flair\"},\n",
    "        {\"role\": \"user\", \"content\": \"Compose a poem explaining recursion in programming\"}\n",
    "    ]\n",
    ")\n",
    "\n",
    "print(completion.choices)"
   ]
  },
  {
   "cell_type": "code",
   "execution_count": 4,
   "metadata": {},
   "outputs": [
    {
     "data": {
      "text/plain": [
       "ChatCompletionMessage(content=\"In the realm of code where logic reigns,\\nA concept strange yet mighty, recursion's domain.\\nLike a mirror reflecting its own grace,\\nA function calls itself, in an endless embrace.\\n\\nThrough layers deep, it travels far,\\nUnraveling mysteries, like a shooting star.\\nEach repetition, a step in the dance,\\nUnfolding patterns with elegance and chance.\\n\\nInfinite loops, in a symphony of code,\\nA recursive journey, where wonders unfold.\\nBreaking problems down, into parts so small,\\nUntil the solution emerges, like a whispering call.\\n\\nBeware of the depths, where errors may lurk,\\nInfinite recursion, like a shadow at work.\\nBut with care and precision, and a programmer's art,\\nRecursion reveals its beauty, a masterpiece at heart.\\n\\nSo embrace its power, its magic, its might,\\nFor in the world of programming, recursion takes flight.\\nA cycle of creation, a loop of the mind,\\nIn the tapestry of code, recursion you'll find.\", role='assistant', function_call=None, tool_calls=None)"
      ]
     },
     "execution_count": 4,
     "metadata": {},
     "output_type": "execute_result"
    }
   ],
   "source": [
    "completion.choices[0].message"
   ]
  },
  {
   "cell_type": "code",
   "execution_count": 5,
   "metadata": {},
   "outputs": [
    {
     "name": "stdout",
     "output_type": "stream",
     "text": [
      "In the realm of code where logic reigns,\n",
      "A concept strange yet mighty, recursion's domain.\n",
      "Like a mirror reflecting its own grace,\n",
      "A function calls itself, in an endless embrace.\n",
      "\n",
      "Through layers deep, it travels far,\n",
      "Unraveling mysteries, like a shooting star.\n",
      "Each repetition, a step in the dance,\n",
      "Unfolding patterns with elegance and chance.\n",
      "\n",
      "Infinite loops, in a symphony of code,\n",
      "A recursive journey, where wonders unfold.\n",
      "Breaking problems down, into parts so small,\n",
      "Until the solution emerges, like a whispering call.\n",
      "\n",
      "Beware of the depths, where errors may lurk,\n",
      "Infinite recursion, like a shadow at work.\n",
      "But with care and precision, and a programmer's art,\n",
      "Recursion reveals its beauty, a masterpiece at heart.\n",
      "\n",
      "So embrace its power, its magic, its might,\n",
      "For in the world of programming, recursion takes flight.\n",
      "A cycle of creation, a loop of the mind,\n",
      "In the tapestry of code, recursion you'll find.\n"
     ]
    }
   ],
   "source": [
    "print(completion.choices[0].message.content)"
   ]
  },
  {
   "cell_type": "code",
   "execution_count": null,
   "metadata": {},
   "outputs": [],
   "source": []
  }
 ],
 "metadata": {
  "kernelspec": {
   "display_name": "Python 3",
   "language": "python",
   "name": "python3"
  },
  "language_info": {
   "codemirror_mode": {
    "name": "ipython",
    "version": 3
   },
   "file_extension": ".py",
   "mimetype": "text/x-python",
   "name": "python",
   "nbconvert_exporter": "python",
   "pygments_lexer": "ipython3",
   "version": "3.11.8"
  }
 },
 "nbformat": 4,
 "nbformat_minor": 2
}
